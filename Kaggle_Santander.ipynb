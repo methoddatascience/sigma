{
 "cells": [
  {
   "cell_type": "markdown",
   "metadata": {
    "_uuid": "9bc9ebd262072599d67a75b9845199dcdd08047f"
   },
   "source": [
    "**Importing and Studying the dataset**"
   ]
  },
  {
   "cell_type": "code",
   "execution_count": null,
   "metadata": {
    "_cell_guid": "b1076dfc-b9ad-4769-8c92-a6c4dae69d19",
    "_uuid": "8f2839f25d086af736a60e9eeb907d3b93b6e0e5",
    "collapsed": true
   },
   "outputs": [],
   "source": [
    "#Importing necessary libraries\n",
    "import numpy as np # linear algebra\n",
    "import pandas as pd # data processing, CSV file I/O (e.g. pd.read_csv)\n",
    "import matplotlib.pyplot as plt # data viz"
   ]
  },
  {
   "cell_type": "code",
   "execution_count": null,
   "metadata": {
    "_uuid": "084573c9dc5892298ac2b71ad2685fc6f45f3082",
    "collapsed": true
   },
   "outputs": [],
   "source": [
    "# Reading the data\n",
    "training_data = pd.read_csv('../input/train.csv')\n",
    "testing_data = pd.read_csv('../input/test.csv')"
   ]
  },
  {
   "cell_type": "code",
   "execution_count": null,
   "metadata": {
    "_cell_guid": "79c7e3d0-c299-4dcb-8224-4455121ee9b0",
    "_kg_hide-input": true,
    "_uuid": "d629ff2d2480ee46fbb7e2d37f6b5fab8052498a",
    "collapsed": true,
    "scrolled": true
   },
   "outputs": [],
   "source": [
    "training_data.head(n=20)"
   ]
  },
  {
   "cell_type": "code",
   "execution_count": null,
   "metadata": {
    "_uuid": "3e5a20eb4072206877b9d8d0e4781ae90899f12e",
    "collapsed": true
   },
   "outputs": [],
   "source": [
    "testing_data.head(n=20)"
   ]
  },
  {
   "cell_type": "code",
   "execution_count": null,
   "metadata": {
    "_uuid": "129ffefdf83a9db22edcf79cb236c77510753fd0",
    "collapsed": true
   },
   "outputs": [],
   "source": [
    "training_data.info()"
   ]
  },
  {
   "cell_type": "code",
   "execution_count": null,
   "metadata": {
    "_uuid": "a1cf6f49438e16dc6433e9e9f7e11134dc9b419c",
    "collapsed": true,
    "scrolled": true
   },
   "outputs": [],
   "source": [
    "testing_data.info()"
   ]
  },
  {
   "cell_type": "markdown",
   "metadata": {
    "_uuid": "8aaf55a0c9067bf8ec178b0c80bb54dcf186b119"
   },
   "source": [
    "<font size=5>**Exploring the target variable**</font>"
   ]
  },
  {
   "cell_type": "code",
   "execution_count": null,
   "metadata": {
    "_uuid": "c458585a8243ea22419102c4edc330baecae2c4f",
    "collapsed": true
   },
   "outputs": [],
   "source": [
    "plt.figure(figsize=(8,6))\n",
    "plt.scatter(range(training_data.shape[0]), np.sort(training_data['target'].values))\n",
    "plt.xlabel('index', fontsize=12)\n",
    "plt.ylabel('Target', fontsize=12)\n",
    "plt.title(\"Target Distribution\", fontsize=14)\n",
    "plt.show()"
   ]
  },
  {
   "cell_type": "markdown",
   "metadata": {
    "_uuid": "8ecace6f295b991b8344a3f2bd509b4737229582"
   },
   "source": [
    "We can see that most of the training data has quite quite a low target value which would make sense since wealth is divided unevenly to the top percentiles. According to Kaggle has used the RMSLE metric which would help to normalise any extreme differences from the mean."
   ]
  },
  {
   "cell_type": "markdown",
   "metadata": {
    "_uuid": "cfe272a1a0ce6ebd1e625b81aee9a7734967727b"
   },
   "source": [
    "<font size=5>**Data Preprocessing**</font>"
   ]
  },
  {
   "cell_type": "markdown",
   "metadata": {
    "_uuid": "1b2653f3c3f0ffe1cb76ef4cd1f25df208f7de02"
   },
   "source": [
    "Checking for missing data"
   ]
  },
  {
   "cell_type": "code",
   "execution_count": null,
   "metadata": {
    "_uuid": "d2add9d0374b5be4b81191cf67e33445739c0353",
    "collapsed": true
   },
   "outputs": [],
   "source": [
    "missing_df = training_data.isnull().sum(axis=0).reset_index()\n",
    "missing_df.columns = ['column_name', 'missing_count']\n",
    "missing_df = missing_df[missing_df['missing_count']>0]\n",
    "missing_df = missing_df.sort_values(by='missing_count')\n",
    "print(missing_df)\n",
    "\n",
    "\n",
    "\n"
   ]
  },
  {
   "cell_type": "markdown",
   "metadata": {
    "_uuid": "53c1fca40045784e0d96ec04502b21cbdd2cf9f6"
   },
   "source": [
    "Columns with only one unique value is not useful for us at seeing the predictability of that variable so we'll drop them."
   ]
  },
  {
   "cell_type": "code",
   "execution_count": null,
   "metadata": {
    "_uuid": "c85a1f23a52eeecdeb8bef9f45cd7212ce78ce1a",
    "collapsed": true
   },
   "outputs": [],
   "source": [
    "df_tmp=pd.DataFrame(training_data.nunique().sort_values(),columns=['num_unique_values']).reset_index().rename(columns={'index':'Column_name'})\n",
    "df_tmp.head()"
   ]
  },
  {
   "cell_type": "code",
   "execution_count": null,
   "metadata": {
    "_uuid": "25fcfaea7973288b596774cec8dfe1ec638b417e",
    "collapsed": true
   },
   "outputs": [],
   "source": [
    "def col_name_with_n_unique_value(df,n):\n",
    "    df1=pd.DataFrame(df.nunique().sort_values(),columns=['num_unique_values']).reset_index()\n",
    "    col_name=list(df1[df1.num_unique_values==1]['index'])\n",
    "    print('number of columns with only',n,'unique values are: ',len(col_name))\n",
    "    return col_name"
   ]
  },
  {
   "cell_type": "code",
   "execution_count": null,
   "metadata": {
    "_uuid": "c373799612eeca073cb0730a8bad140942c14e04",
    "collapsed": true
   },
   "outputs": [],
   "source": [
    "col_to_drop=col_name_with_n_unique_value(training_data,1)"
   ]
  },
  {
   "cell_type": "code",
   "execution_count": null,
   "metadata": {
    "_uuid": "9e148709b8299bcb5b49f7899868907fb6d93dc4",
    "collapsed": true
   },
   "outputs": [],
   "source": [
    "training_data.drop(columns=col_to_drop,inplace=True)\n",
    "testing_data.drop(columns=col_to_drop,inplace=True)\n",
    "print('Shape of train dataset after droping columns: ',training_data.shape)\n",
    "print('Shape of test dataset after droping columns: ',testing_data.shape)"
   ]
  },
  {
   "cell_type": "code",
   "execution_count": null,
   "metadata": {
    "_uuid": "fcb397b01177fdcf3007184ad15bf4cfe605c127",
    "collapsed": true
   },
   "outputs": [],
   "source": [
    "train=training_data.iloc[:,2:].values\n",
    "test=testing_data.iloc[:,1:].values\n",
    "target=training_data.target.values\n",
    "print('Shape of train: ',train.shape)\n",
    "print('Shape of target: ',target.shape)\n",
    "print('Shape of test: ',test.shape)"
   ]
  },
  {
   "cell_type": "markdown",
   "metadata": {
    "_uuid": "22df156c5b67eac96e7251d5c68cfc45126ca9fd"
   },
   "source": [
    "<font size=5>**Splitting our data into training and validation**</font>"
   ]
  },
  {
   "cell_type": "code",
   "execution_count": null,
   "metadata": {
    "_uuid": "8df1dab872103ad207486e34fb240b93eff84ca1",
    "collapsed": true,
    "scrolled": false
   },
   "outputs": [],
   "source": [
    "from sklearn.model_selection import train_test_split\n",
    "X_train, X_val, y_train, y_val = train_test_split(train, target, test_size=0.2, random_state=42)\n",
    "y_train = np.log1p(y_train)\n",
    "y_val = np.log1p(y_val)\n",
    "\n",
    "print(X_train.shape, y_train.shape)\n",
    "print(X_val.shape, y_val.shape)\n",
    "print(test.shape, test.shape)"
   ]
  },
  {
   "cell_type": "markdown",
   "metadata": {
    "_uuid": "5cdd0c8c339da7dc042ef197ae6e51adfc585772",
    "collapsed": true
   },
   "source": [
    "<font size=5>**Modelling**</font>"
   ]
  },
  {
   "cell_type": "markdown",
   "metadata": {
    "_uuid": "d675e2363508f350c8e94d3d0c52d2d0a2978616"
   },
   "source": [
    "We'll be looking at random forest, xgb and light gbm and averaging the scores from them"
   ]
  },
  {
   "cell_type": "code",
   "execution_count": null,
   "metadata": {
    "_uuid": "cdf91c7fc3954a69c0eb3a2b7dd4262a115badd9",
    "collapsed": true
   },
   "outputs": [],
   "source": [
    "# Library and modules for modelling\n",
    "from sklearn.metrics import mean_squared_error\n",
    "from sklearn.ensemble import RandomForestRegressor\n",
    "from xgboost import XGBRegressor\n",
    "import lightgbm"
   ]
  },
  {
   "cell_type": "code",
   "execution_count": null,
   "metadata": {
    "_uuid": "776032f6a58d5fdf10a7b49fe9337efc342dbec3",
    "collapsed": true
   },
   "outputs": [],
   "source": [
    "rf_model = RandomForestRegressor(n_estimators=100)\n",
    "rf_model.fit(X_train, y_train)\n",
    "model_name='RandomForestRegressor'\n",
    "RMSLE=np.sqrt(mean_squared_error(y_val,rf_model.predict(X_val)))\n",
    "Model_Summary=pd.DataFrame()\n",
    "Model_Summary=Model_Summary.append({'Model_Name':model_name,'RMSLE':RMSLE},ignore_index=True)\n",
    "print(Model_Summary)"
   ]
  },
  {
   "cell_type": "code",
   "execution_count": null,
   "metadata": {
    "_uuid": "0a2d22801b622446828a0e6d6f65d0381b016ab8",
    "collapsed": true
   },
   "outputs": [],
   "source": [
    "rf_pred=np.expm1(rf_model.predict(test))\n",
    "print(rf_pred)"
   ]
  },
  {
   "cell_type": "markdown",
   "metadata": {
    "_uuid": "0857bfcf8179dec06eeedfec9e94a6959ee0924a"
   },
   "source": [
    "<font size=5>**XG Boost**</font>"
   ]
  },
  {
   "cell_type": "code",
   "execution_count": null,
   "metadata": {
    "_uuid": "8b3bf743cfe2c7ca3664cb05230c8cf53669eac6",
    "collapsed": true
   },
   "outputs": [],
   "source": [
    "xgb_model=XGBRegressor (max_depth=9)\n",
    "xgb_model.fit(X_train, y_train)\n",
    "model_name='xgboost'\n",
    "RMSLE=np.sqrt(mean_squared_error(y_val,xgb_model.predict(X_val)))\n",
    "Model_Summary=Model_Summary.append({'Model_Name':model_name,'RMSLE':RMSLE},ignore_index=True)\n",
    "print(Model_Summary)"
   ]
  },
  {
   "cell_type": "code",
   "execution_count": null,
   "metadata": {
    "_uuid": "2e5ff498efee85eaeadb889325c563ef0cef9e66",
    "collapsed": true
   },
   "outputs": [],
   "source": [
    "xgb_pred=np.expm1(xgb_model.predict(test))\n",
    "print(xgb_pred)"
   ]
  },
  {
   "cell_type": "markdown",
   "metadata": {
    "_uuid": "495faeebb65eecfe5b2f4f5583d81bc67008379b"
   },
   "source": [
    "<font size=5>**Light GBM**</font>"
   ]
  },
  {
   "cell_type": "code",
   "execution_count": null,
   "metadata": {
    "_uuid": "5009ccb8679224250136b5f3ee4adc8598902af6",
    "collapsed": true
   },
   "outputs": [],
   "source": [
    "train_data=lightgbm.Dataset(X_train,y_train)\n",
    "valid_data=lightgbm.Dataset(X_val,y_val)\n",
    "params={'learning_rate':0.01,\n",
    "        'boosting_type':'gbdt',\n",
    "        'objective':'regression',\n",
    "        'metric':'rmse',\n",
    "        'sub_feature':0.5,\n",
    "        'num_leaves':180,\n",
    "        'feature_fraction': 0.5,\n",
    "        'bagging_fraction': 0.5,\n",
    "        'min_data':50,\n",
    "        'max_depth':-1,\n",
    "        'reg_alpha': 0.3, \n",
    "        'reg_lambda': 0.1, \n",
    "        'min_child_weight': 10, \n",
    "        'verbose': 1,\n",
    "        'nthread':5,\n",
    "        'max_bin':512,\n",
    "        'subsample_for_bin':200,\n",
    "        'min_split_gain':0.0001,\n",
    "        'min_child_samples':5\n",
    "       }\n",
    "lgbm = lightgbm.train(params,\n",
    "                 train_data,\n",
    "                 25000,\n",
    "                 valid_sets=valid_data,\n",
    "                 early_stopping_rounds= 80,\n",
    "                 verbose_eval= 10\n",
    "                 )\n",
    "model_name='lightgbm'\n",
    "RMSLE=np.sqrt(mean_squared_error(y_val,lgbm.predict(X_val)))\n",
    "Model_Summary=Model_Summary.append({'Model_Name':model_name,'RMSLE':RMSLE},ignore_index=True)\n",
    "print(Model_Summary)"
   ]
  },
  {
   "cell_type": "code",
   "execution_count": null,
   "metadata": {
    "_uuid": "fa177d7ab4b1766c8173511fb567aa73b6ce33d3",
    "collapsed": true
   },
   "outputs": [],
   "source": [
    "lgbm_pred=np.expm1(lgbm.predict(test))\n",
    "print(lgbm_pred)"
   ]
  },
  {
   "cell_type": "markdown",
   "metadata": {
    "_uuid": "0770f41d81b27c90f34d39fb74edbcfc4f853d7b"
   },
   "source": [
    "<font size=5>**Averaging scores and getting the submission file**</font>"
   ]
  },
  {
   "cell_type": "code",
   "execution_count": null,
   "metadata": {
    "_uuid": "32b24f950fdcba5fbd52b7ecb213216298c7f45d",
    "collapsed": true
   },
   "outputs": [],
   "source": [
    "sub=pd.read_csv('../input/sample_submission.csv')\n",
    "sub.target=(lgbm_pred+rf_pred+xgb_pred)/3.0\n",
    "sub.head()\n"
   ]
  },
  {
   "cell_type": "code",
   "execution_count": null,
   "metadata": {
    "_uuid": "8aab1e937d30682bf38e4beb5c75a53421e8698e",
    "collapsed": true
   },
   "outputs": [],
   "source": [
    "sub.to_csv('submission.csv',index=False)"
   ]
  },
  {
   "cell_type": "markdown",
   "metadata": {
    "_uuid": "e381d8a0b47bd878d9955374ce74bcbdd377a5af"
   },
   "source": []
  }
 ],
 "metadata": {
  "kernelspec": {
   "display_name": "Python 3",
   "language": "python",
   "name": "python3"
  },
  "language_info": {
   "codemirror_mode": {
    "name": "ipython",
    "version": 3
   },
   "file_extension": ".py",
   "mimetype": "text/x-python",
   "name": "python",
   "nbconvert_exporter": "python",
   "pygments_lexer": "ipython3",
   "version": "3.6.1"
  }
 },
 "nbformat": 4,
 "nbformat_minor": 1
}
